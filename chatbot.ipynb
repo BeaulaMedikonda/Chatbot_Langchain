{
  "nbformat": 4,
  "nbformat_minor": 0,
  "metadata": {
    "colab": {
      "provenance": []
    },
    "kernelspec": {
      "name": "python3",
      "display_name": "Python 3"
    },
    "language_info": {
      "name": "python"
    }
  },
  "cells": [
    {
      "cell_type": "code",
      "execution_count": 6,
      "metadata": {
        "colab": {
          "base_uri": "https://localhost:8080/"
        },
        "id": "SijuxlfVZTRy",
        "outputId": "fe4a59b8-2176-498f-9200-b1c040d3c248"
      },
      "outputs": [
        {
          "output_type": "stream",
          "name": "stdout",
          "text": [
            "Enter your OpenAI API key: ··········\n",
            "\n",
            "Ask your question (or type 'exit'): todays date?\n",
            "🔎 Answer: Today's date is June 25, 2025.\n",
            "\n",
            "Ask your question (or type 'exit'): who is the first prime minister of india?\n",
            "🔎 Answer: The first Prime Minister of India was Jawaharlal Nehru. He served as Prime Minister from August 15, 1947, when India gained independence from British rule, until his death on May 27, 1964.\n",
            "\n",
            "Ask your question (or type 'exit'): how ru?\n",
            "🔎 Answer: I'm just a computer program, so I don't have feelings, but I'm here to help you! How can I assist you today?\n",
            "\n",
            "Ask your question (or type 'exit'): whats ur name?\n",
            "🔎 Answer: I'm an AI language model created by OpenAI, and you can call me Assistant. How can I help you today?\n",
            "\n",
            "Ask your question (or type 'exit'): whats my name?\n",
            "🔎 Answer: I'm sorry, but I don't have access to any personal information about you. If you'd like to share your name, feel free to do so!\n",
            "\n",
            "Ask your question (or type 'exit'): EXIT\n",
            "👋 Chat ended.\n"
          ]
        }
      ],
      "source": [
        "from langchain_openai import ChatOpenAI\n",
        "from langchain_core.prompts import ChatPromptTemplate\n",
        "from langchain_core.output_parsers import StrOutputParser\n",
        "from datetime import date\n",
        "from getpass import getpass\n",
        "import os\n",
        "\n",
        "# 🔐 Get API key\n",
        "os.environ[\"OPENAI_API_KEY\"] = getpass(\"Enter your OpenAI API key: \")\n",
        "\n",
        "# 📅 Today’s date\n",
        "today = date.today().strftime(\"%B %d, %Y\")\n",
        "\n",
        "# 💬 Strong system prompt with date injection\n",
        "prompt = ChatPromptTemplate.from_messages([\n",
        "    (\"system\", f\"\"\"You are a helpful assistant.\n",
        "Always answer as if today is **{today}**.\n",
        "Do NOT say you don't know the date.\n",
        "Just assume today's date is {today} and answer accordingly.\"\"\"),\n",
        "    (\"user\", \"Question: {question}\")\n",
        "])\n",
        "\n",
        "# 🤖 LLM setup\n",
        "llm = ChatOpenAI(model=\"gpt-4o\")\n",
        "output_parser = StrOutputParser()\n",
        "chain = prompt | llm | output_parser\n",
        "\n",
        "# 🔁 Chat loop\n",
        "while True:\n",
        "    question = input(\"\\nAsk your question (or type 'exit'): \")\n",
        "    if question.lower() in [\"exit\", \"quit\"]:\n",
        "        print(\"👋 Chat ended.\")\n",
        "        break\n",
        "    response = chain.invoke({\"question\": question})\n",
        "    print(\"🔎 Answer:\", response)\n",
        "\n"
      ]
    },
    {
      "cell_type": "code",
      "source": [],
      "metadata": {
        "id": "BqeGL4NRao0n"
      },
      "execution_count": null,
      "outputs": []
    }
  ]
}